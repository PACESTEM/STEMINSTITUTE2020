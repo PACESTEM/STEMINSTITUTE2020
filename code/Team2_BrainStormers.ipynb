{
  "nbformat": 4,
  "nbformat_minor": 0,
  "metadata": {
    "colab": {
      "name": "Team#2-Stem2020session2-Ayesha.ipynb",
      "provenance": [],
      "collapsed_sections": []
    },
    "kernelspec": {
      "name": "python3",
      "display_name": "Python 3"
    }
  },
  "cells": [
    {
      "cell_type": "markdown",
      "metadata": {
        "id": "K5Lt9z3o21St",
        "colab_type": "text"
      },
      "source": [
        "Day 2"
      ]
    },
    {
      "cell_type": "code",
      "metadata": {
        "id": "6gIQ8f1p24vm",
        "colab_type": "code",
        "colab": {
          "base_uri": "https://localhost:8080/",
          "height": 34
        },
        "outputId": "d7fe54d5-dd34-444f-8e59-3ed812e39140"
      },
      "source": [
        "a = True\n",
        "if a == False:\n",
        "  print(\"a is False\")\n",
        "else:\n",
        "  print(\"a is True\")"
      ],
      "execution_count": 1,
      "outputs": [
        {
          "output_type": "stream",
          "text": [
            "a is True\n"
          ],
          "name": "stdout"
        }
      ]
    },
    {
      "cell_type": "code",
      "metadata": {
        "id": "qcEHuvWL5spT",
        "colab_type": "code",
        "colab": {
          "base_uri": "https://localhost:8080/",
          "height": 34
        },
        "outputId": "ef710ed9-03af-4d10-abe7-4676af83c80b"
      },
      "source": [
        "a = 3.14\n",
        "b = 2.435\n",
        "print(f\"{a} + {b} = {a+b}\")"
      ],
      "execution_count": 2,
      "outputs": [
        {
          "output_type": "stream",
          "text": [
            "3.14 + 2.435 = 5.575\n"
          ],
          "name": "stdout"
        }
      ]
    },
    {
      "cell_type": "code",
      "metadata": {
        "id": "CgPzFDQa8B-c",
        "colab_type": "code",
        "colab": {
          "base_uri": "https://localhost:8080/",
          "height": 102
        },
        "outputId": "e024965b-9629-4bad-d738-71819b6aac3c"
      },
      "source": [
        "string1 = \"Hello World\"\n",
        "print(\"upper():\", string1.upper())\n",
        "print(\"lower():\", string1.lower())\n",
        "print(\"normal:\", string1)\n",
        "print(\"capitalize():\", string1.capitalize())\n",
        "split_string = string1.split(\" \")\n",
        "print(\"split(\" \"):\", split_string)"
      ],
      "execution_count": 3,
      "outputs": [
        {
          "output_type": "stream",
          "text": [
            "upper(): HELLO WORLD\n",
            "lower(): hello world\n",
            "normal: Hello World\n",
            "capitalize(): Hello world\n",
            "split(): ['Hello', 'World']\n"
          ],
          "name": "stdout"
        }
      ]
    },
    {
      "cell_type": "markdown",
      "metadata": {
        "id": "_5q-1jSj_Yih",
        "colab_type": "text"
      },
      "source": [
        "using split with multiple parameters?"
      ]
    },
    {
      "cell_type": "code",
      "metadata": {
        "id": "pta0y3JH9Hea",
        "colab_type": "code",
        "colab": {
          "base_uri": "https://localhost:8080/",
          "height": 34
        },
        "outputId": "02ffadee-f540-460d-8be9-270456637c10"
      },
      "source": [
        "string = \"Hello world, my name is Ayesha.\"\n",
        "split = string.split(\" \", 1)\n",
        "print(split)"
      ],
      "execution_count": 4,
      "outputs": [
        {
          "output_type": "stream",
          "text": [
            "['Hello', 'world, my name is Ayesha.']\n"
          ],
          "name": "stdout"
        }
      ]
    },
    {
      "cell_type": "code",
      "metadata": {
        "id": "QXlxIZwg_chm",
        "colab_type": "code",
        "colab": {
          "base_uri": "https://localhost:8080/",
          "height": 35
        },
        "outputId": "19440033-3d8d-4451-cab6-b54a9aa25f65"
      },
      "source": [
        "string.title()\n"
      ],
      "execution_count": 5,
      "outputs": [
        {
          "output_type": "execute_result",
          "data": {
            "application/vnd.google.colaboratory.intrinsic+json": {
              "type": "string"
            },
            "text/plain": [
              "'Hello World, My Name Is Ayesha.'"
            ]
          },
          "metadata": {
            "tags": []
          },
          "execution_count": 5
        }
      ]
    },
    {
      "cell_type": "markdown",
      "metadata": {
        "id": "F9hzg22eW4ov",
        "colab_type": "text"
      },
      "source": [
        "**Murderers in the Rue Morgue**\n",
        "\n",
        "\n"
      ]
    },
    {
      "cell_type": "markdown",
      "metadata": {
        "id": "LlbU01VEbuYj",
        "colab_type": "text"
      },
      "source": [
        "attempt one"
      ]
    },
    {
      "cell_type": "code",
      "metadata": {
        "id": "9nilMZwKXJAJ",
        "colab_type": "code",
        "colab": {
          "base_uri": "https://localhost:8080/",
          "height": 119
        },
        "outputId": "2454c94b-8b30-4f7c-d3c9-c7c1f06665d0"
      },
      "source": [
        "sample1 = \"\"\"Whist has long been noted for its influence upon what is termed the calculating power; \n",
        "and men of the highest order of intellect have been known to take an apparently unaccountable delight in it, \n",
        "while eschewing chess as frivolous. Beyond doubt there is nothing of a similar nature so greatly tasking the faculty of analysis.\"\"\"\n",
        "\n",
        "sample2 = \"\"\"The best chessplayer in Christendom may be little more than the best player of chess; but proficiency in whist implies capacity \n",
        "for success in all those more important undertakings where mind struggles with mind. When I say proficiency, I mean that perfection in the game which \n",
        "includes a comprehension of all the sources whence legitimate advantage may be derived.\"\"\"\n",
        "\n",
        "sample3 = \"\"\"These are not only manifold but multiform, and lie frequently among recesses of thought altogether inaccessible to the ordinary \n",
        "understanding. To observe attentively is to remember distinctly; and, so far, the concentrative chess-player will do very well at whist; \n",
        "while the rules of Hoyle (themselves based upon the mere mechanism of the game) are sufficiently and generally comprehensible.\"\"\"\n",
        "\n",
        "a = 0\n",
        "e = 0\n",
        "i = 0\n",
        "o = 0\n",
        "u = 0\n",
        "\n",
        "for letter in sample2:\n",
        "  if letter == \"a\".lower():\n",
        "    a+=1\n",
        "  \n",
        "  if letter == \"e\".lower():\n",
        "    e+=1\n",
        "\n",
        "  if letter == \"e\".lower():\n",
        "    e+=1\n",
        "\n",
        "  if letter == \"i\".lower():\n",
        "    i+=1\n",
        "\n",
        "  if letter == \"o\".lower():\n",
        "    o+=1\n",
        "\n",
        "  if letter == \"u\".lower():\n",
        "    u+=1\n",
        "\n",
        "  else:\n",
        "    continue\n",
        "\n",
        "print(\"SAMPLE2:\")\n",
        "print(f\"a = {a}\")\n",
        "print(f\"e = {e}\")\n",
        "print(f\"i = {i}\")\n",
        "print(f\"o = {o}\")\n",
        "print(f\"u = {u}\")\n",
        "\n",
        "    \n",
        " "
      ],
      "execution_count": 6,
      "outputs": [
        {
          "output_type": "stream",
          "text": [
            "SAMPLE2:\n",
            "a = 20\n",
            "e = 82\n",
            "i = 26\n",
            "o = 14\n",
            "u = 6\n"
          ],
          "name": "stdout"
        }
      ]
    },
    {
      "cell_type": "markdown",
      "metadata": {
        "id": "jCUTiD-FbwaZ",
        "colab_type": "text"
      },
      "source": [
        "attempt two -- iteraters over letters in each list in a nested for loop"
      ]
    },
    {
      "cell_type": "code",
      "metadata": {
        "id": "XCnJkTYgbIHV",
        "colab_type": "code",
        "colab": {
          "base_uri": "https://localhost:8080/",
          "height": 425
        },
        "outputId": "2c261948-6a91-4608-f259-cddbbb24d707"
      },
      "source": [
        "sample1 = \"\"\"Whist has long been noted for its influence upon what is termed the calculating power; \n",
        "and men of the highest order of intellect have been known to take an apparently unaccountable delight in it, \n",
        "while eschewing chess as frivolous. Beyond doubt there is nothing of a similar nature so greatly tasking the faculty of analysis.\"\"\"\n",
        "\n",
        "sample2 = \"\"\"The best chessplayer in Christendom may be little more than the best player of chess; but proficiency in whist implies capacity \n",
        "for success in all those more important undertakings where mind struggles with mind. When I say proficiency, I mean that perfection in the game which \n",
        "includes a comprehension of all the sources whence legitimate advantage may be derived.\"\"\"\n",
        "\n",
        "sample3 = \"\"\"These are not only manifold but multiform, and lie frequently among recesses of thought altogether inaccessible to the ordinary \n",
        "understanding. To observe attentively is to remember distinctly; and, so far, the concentrative chess-player will do very well at whist; \n",
        "while the rules of Hoyle (themselves based upon the mere mechanism of the game) are sufficiently and generally comprehensible.\"\"\"\n",
        "\n",
        "a = 0\n",
        "e = 0\n",
        "i = 0\n",
        "o = 0\n",
        "u = 0\n",
        "samples = [sample1, sample2, sample3]\n",
        "for sample in samples:\n",
        "  for letter in sample:\n",
        "    if letter.lower() == \"a\":\n",
        "      a+=1\n",
        "    \n",
        "    elif letter.lower() == \"e\":\n",
        "      e+=1\n",
        "\n",
        "    elif letter.lower() == \"e\":\n",
        "      e+=1\n",
        "\n",
        "    elif letter.lower() == \"i\":\n",
        "      i+=1\n",
        "\n",
        "    elif letter.lower() == \"o\":\n",
        "      o+=1\n",
        "\n",
        "    elif letter.lower() == \"u\":\n",
        "      u+=1\n",
        "\n",
        "    else:\n",
        "      continue\n",
        "\n",
        "  print(sample)\n",
        "  print(f\"a = {a}\")\n",
        "  print(f\"e = {e}\")\n",
        "  print(f\"i = {i}\")\n",
        "  print(f\"o = {o}\")\n",
        "  print(f\"u = {u}\")\n",
        "\n",
        "  a, e, i, o, u = 0, 0, 0, 0, 0\n"
      ],
      "execution_count": 7,
      "outputs": [
        {
          "output_type": "stream",
          "text": [
            "Whist has long been noted for its influence upon what is termed the calculating power; \n",
            "and men of the highest order of intellect have been known to take an apparently unaccountable delight in it, \n",
            "while eschewing chess as frivolous. Beyond doubt there is nothing of a similar nature so greatly tasking the faculty of analysis.\n",
            "a = 21\n",
            "e = 32\n",
            "i = 19\n",
            "o = 19\n",
            "u = 9\n",
            "The best chessplayer in Christendom may be little more than the best player of chess; but proficiency in whist implies capacity \n",
            "for success in all those more important undertakings where mind struggles with mind. When I say proficiency, I mean that perfection in the game which \n",
            "includes a comprehension of all the sources whence legitimate advantage may be derived.\n",
            "a = 20\n",
            "e = 41\n",
            "i = 28\n",
            "o = 14\n",
            "u = 6\n",
            "These are not only manifold but multiform, and lie frequently among recesses of thought altogether inaccessible to the ordinary \n",
            "understanding. To observe attentively is to remember distinctly; and, so far, the concentrative chess-player will do very well at whist; \n",
            "while the rules of Hoyle (themselves based upon the mere mechanism of the game) are sufficiently and generally comprehensible.\n",
            "a = 20\n",
            "e = 50\n",
            "i = 19\n",
            "o = 21\n",
            "u = 8\n"
          ],
          "name": "stdout"
        }
      ]
    },
    {
      "cell_type": "markdown",
      "metadata": {
        "id": "-cBWyOfKefMD",
        "colab_type": "text"
      },
      "source": [
        "Made by my sister -- with the more efficient idea of using the count()"
      ]
    },
    {
      "cell_type": "code",
      "metadata": {
        "id": "y09hwJo6cFqv",
        "colab_type": "code",
        "colab": {}
      },
      "source": [
        "sample1 = \"\"\"Whist has long been noted for its influence upon what is termed the calculating power; \n",
        "and men of the highest order of intellect have been known to take an apparently unaccountable delight in it, \n",
        "while eschewing chess as frivolous. Beyond doubt there is nothing of a similar nature so greatly tasking the faculty of analysis.\"\"\"\n",
        "\n",
        "text2 = \"\"\"The best chessplayer in Christendom may be little more than the best player of chess; but proficiency in whist implies capacity \n",
        "for success in all those more important undertakings where mind struggles with mind. When I say proficiency, I mean that perfection in the game which \n",
        "includes a comprehension of all the sources whence legitimate advantage may be derived.\"\"\"\n",
        "\n",
        "sample3 = \"\"\"These are not only manifold but multiform, and lie frequently among recesses of thought altogether inaccessible to the ordinary \n",
        "understanding. To observe attentively is to remember distinctly; and, so far, the concentrative chess-player will do very well at whist; \n",
        "while the rules of Hoyle (themselves based upon the mere mechanism of the game) are sufficiently and generally comprehensible.\"\"\""
      ],
      "execution_count": 8,
      "outputs": []
    },
    {
      "cell_type": "code",
      "metadata": {
        "id": "R2pkzaXzcN9y",
        "colab_type": "code",
        "colab": {
          "base_uri": "https://localhost:8080/",
          "height": 34
        },
        "outputId": "3c644146-de8d-4626-c656-9140df8d4e59"
      },
      "source": [
        "counter = sample1.count('a')\n",
        "print(\"Count of a is: \" +str(counter))"
      ],
      "execution_count": 9,
      "outputs": [
        {
          "output_type": "stream",
          "text": [
            "Count of a is: 21\n"
          ],
          "name": "stdout"
        }
      ]
    },
    {
      "cell_type": "code",
      "metadata": {
        "id": "2R4L0F8fcgY0",
        "colab_type": "code",
        "colab": {
          "base_uri": "https://localhost:8080/",
          "height": 34
        },
        "outputId": "b9a1edcf-b7cb-4616-a238-3d77c0af961a"
      },
      "source": [
        "sample2 = text2.lower()\n",
        "counter = sample2.count('a')\n",
        "print(\"Count of a is: \" +str(counter))"
      ],
      "execution_count": 10,
      "outputs": [
        {
          "output_type": "stream",
          "text": [
            "Count of a is: 20\n"
          ],
          "name": "stdout"
        }
      ]
    },
    {
      "cell_type": "code",
      "metadata": {
        "id": "Zn9sHENpcjGz",
        "colab_type": "code",
        "colab": {
          "base_uri": "https://localhost:8080/",
          "height": 34
        },
        "outputId": "95b564e6-f6c6-4ded-ab78-a5ccc3deae18"
      },
      "source": [
        "counter = sample3.count('u')\n",
        "print(\"Count of u is: \" +str(counter))"
      ],
      "execution_count": 11,
      "outputs": [
        {
          "output_type": "stream",
          "text": [
            "Count of u is: 8\n"
          ],
          "name": "stdout"
        }
      ]
    },
    {
      "cell_type": "markdown",
      "metadata": {
        "id": "lCONFk4RNJEC",
        "colab_type": "text"
      },
      "source": [
        "Program with actual samples "
      ]
    },
    {
      "cell_type": "code",
      "metadata": {
        "id": "Kwddfsvj51I1",
        "colab_type": "code",
        "colab": {
          "base_uri": "https://localhost:8080/",
          "height": 493
        },
        "outputId": "5b17f0f3-4004-4b1d-b72a-1d36138a2f2c"
      },
      "source": [
        "\n",
        "sample1 = \"\"\"“Whist has long been noted for its influence upon what is termed the calculating power; and men of the highest order of \n",
        "intellect have been known to take an apparently unaccountable delight in it, while eschewing chess as frivolous. Beyond doubt there is nothing \n",
        "of a similar nature so greatly tasking the faculty of analysis.”\n",
        "\"\"\"\n",
        "\n",
        "sample2 = \"\"\"These are not only manifold but multiform, and lie frequently among recesses of thought altogether inaccessible to the ordinary \n",
        "understanding. To observe attentively is to remember distinctly; and, so far, the concentrative chess-player will do very well at whist; while \n",
        "the rules of Hoyle (themselves based upon the mere mechanism of the game) are sufficiently and generally comprehensible.\n",
        "\"\"\"\n",
        "\n",
        "sample3 = \"\"\"The first two or three rounds having been played, he is in full possession of the contents of each hand, \n",
        "and thenceforward puts down his cards with as absolute a precision of purpose as if the rest of the party had turned \n",
        "outward the faces of their own. At such times I could not help remarking and admiring (although from his rich ideality I had \n",
        "been prepared to expect it) a peculiar analytic ability in Dupin. He seemed, too, to take an eager delight in its exercise --- \n",
        "if not exactly in its display --- and did not hesitate to confess the pleasure thus derived.\"\"\"\n",
        "\n",
        "a = 0\n",
        "e = 0\n",
        "i = 0\n",
        "o = 0\n",
        "u = 0\n",
        "\n",
        "samples = [sample1, sample2, sample3]\n",
        "for sample in samples:\n",
        "  for letter in sample:\n",
        "    if letter.lower() == \"a\":\n",
        "      a+=1\n",
        "    \n",
        "    elif letter.lower() == \"e\":\n",
        "      e+=1\n",
        "\n",
        "    elif letter.lower() == \"e\":\n",
        "      e+=1\n",
        "\n",
        "    elif letter.lower() == \"i\":\n",
        "      i+=1\n",
        "\n",
        "    elif letter.lower() == \"o\":\n",
        "      o+=1\n",
        "\n",
        "    elif letter.lower() == \"u\":\n",
        "      u+=1\n",
        "\n",
        "    else:\n",
        "      continue\n",
        "\n",
        "  print(sample)\n",
        "  print(f\"a = {a}\")\n",
        "  print(f\"e = {e}\")\n",
        "  print(f\"i = {i}\")\n",
        "  print(f\"o = {o}\")\n",
        "  print(f\"u = {u}\")\n",
        "\n",
        "  a, e, i, o, u = 0, 0, 0, 0, 0\n",
        "\n"
      ],
      "execution_count": 12,
      "outputs": [
        {
          "output_type": "stream",
          "text": [
            "“Whist has long been noted for its influence upon what is termed the calculating power; and men of the highest order of \n",
            "intellect have been known to take an apparently unaccountable delight in it, while eschewing chess as frivolous. Beyond doubt there is nothing \n",
            "of a similar nature so greatly tasking the faculty of analysis.”\n",
            "\n",
            "a = 21\n",
            "e = 32\n",
            "i = 19\n",
            "o = 19\n",
            "u = 9\n",
            "These are not only manifold but multiform, and lie frequently among recesses of thought altogether inaccessible to the ordinary \n",
            "understanding. To observe attentively is to remember distinctly; and, so far, the concentrative chess-player will do very well at whist; while \n",
            "the rules of Hoyle (themselves based upon the mere mechanism of the game) are sufficiently and generally comprehensible.\n",
            "\n",
            "a = 20\n",
            "e = 50\n",
            "i = 19\n",
            "o = 21\n",
            "u = 8\n",
            "The first two or three rounds having been played, he is in full possession of the contents of each hand, \n",
            "and thenceforward puts down his cards with as absolute a precision of purpose as if the rest of the party had turned \n",
            "outward the faces of their own. At such times I could not help remarking and admiring (although from his rich ideality I had \n",
            "been prepared to expect it) a peculiar analytic ability in Dupin. He seemed, too, to take an eager delight in its exercise --- \n",
            "if not exactly in its display --- and did not hesitate to confess the pleasure thus derived.\n",
            "a = 36\n",
            "e = 54\n",
            "i = 39\n",
            "o = 30\n",
            "u = 14\n"
          ],
          "name": "stdout"
        }
      ]
    },
    {
      "cell_type": "markdown",
      "metadata": {
        "id": "5pXw62byPWfQ",
        "colab_type": "text"
      },
      "source": [
        "HOMEWORK "
      ]
    },
    {
      "cell_type": "code",
      "metadata": {
        "id": "KNrWa-fCPYbr",
        "colab_type": "code",
        "colab": {
          "base_uri": "https://localhost:8080/",
          "height": 51
        },
        "outputId": "fd1a5219-c55c-4286-e690-8ef3dddcfdfc"
      },
      "source": [
        "string = \"Hello world. This string is going to PRINT all LOWERCASE AND with NO spaces\"\n",
        "print(string)\n",
        "newString = string.lower().replace(\" \", \"\")\n",
        "print(\"New string: \", newString)"
      ],
      "execution_count": 13,
      "outputs": [
        {
          "output_type": "stream",
          "text": [
            "Hello world. This string is going to PRINT all LOWERCASE AND with NO spaces\n",
            "New string:  helloworld.thisstringisgoingtoprintalllowercaseandwithnospaces\n"
          ],
          "name": "stdout"
        }
      ]
    },
    {
      "cell_type": "markdown",
      "metadata": {
        "id": "EMzy6NZGiXW3",
        "colab_type": "text"
      },
      "source": [
        "Updates:\n",
        "calculates for any character by just changing the variables once\n",
        "\n",
        "calculation done in a function \n",
        "\n",
        "Note: could have used count(), instead of homeade counter \n"
      ]
    },
    {
      "cell_type": "code",
      "metadata": {
        "id": "20LChSx1aKVk",
        "colab_type": "code",
        "colab": {
          "base_uri": "https://localhost:8080/",
          "height": 374
        },
        "outputId": "6fae7be8-b721-43b5-a290-8bb0b9ddc40e"
      },
      "source": [
        "sample1 = \"\"\"Whist has long been noted for its influence upon what is termed the calculating power; \n",
        "and men of the highest\"\"\"\n",
        "\n",
        "sample2 = \"\"\"The best chessplayer in Christendom may be little more than the best player of chess; but proficiency in whist implies capacity \n",
        "for success in all those more important undertakings \"\"\"\n",
        "\n",
        "sample3 = \"\"\"These are not only manifold but multiform, and lie frequently among recesses of thought altogether inaccessible to the ordinary \n",
        "understanding. To observe attentively is to remember distinctly;\"\"\"\n",
        "\n",
        "def calc_letter_frequency(samples, letter1, letter2, letter3, letter4, letter5):\n",
        "\n",
        "  l1, l2, l3, l4, l5 = 0, 0, 0, 0, 0\n",
        "  \n",
        "  for sample in samples:\n",
        "    for letter in sample:\n",
        "      if letter.lower() == letter1:\n",
        "        l1+=1\n",
        "      \n",
        "      elif letter.lower() == letter2:\n",
        "        l2+=1\n",
        "\n",
        "      elif letter.lower() == letter3:\n",
        "        l3+=1\n",
        "\n",
        "      elif letter.lower() == letter4:\n",
        "        l4+=1\n",
        "\n",
        "      elif letter.lower() == letter5:\n",
        "        l5+=1\n",
        "\n",
        "      else:\n",
        "        continue\n",
        "\n",
        "    print(sample)\n",
        "    print(f\"{letter1} = {l1}\")\n",
        "    print(f\"{letter2} = {l2}\")\n",
        "    print(f\"{letter3} = {l3}\")\n",
        "    print(f\"{letter4} = {l4}\")\n",
        "    print(f\"{letter5} = {l5}\")\n",
        "\n",
        "    l1, l2, l3, l4, l5 = 0, 0, 0, 0, 0\n",
        "\n",
        "samples = [sample1, sample2, sample3]\n",
        "\n",
        "ch1 = \"a\"\n",
        "ch2 = \"b\"\n",
        "ch3 = \"c\"\n",
        "ch4 = \"d\"\n",
        "ch5 = \"e\"\n",
        "\n",
        "calc_letter_frequency(samples, ch1, ch2, ch3, ch4, ch5)\n"
      ],
      "execution_count": 14,
      "outputs": [
        {
          "output_type": "stream",
          "text": [
            "Whist has long been noted for its influence upon what is termed the calculating power; \n",
            "and men of the highest\n",
            "a = 5\n",
            "b = 1\n",
            "c = 3\n",
            "d = 3\n",
            "e = 12\n",
            "The best chessplayer in Christendom may be little more than the best player of chess; but proficiency in whist implies capacity \n",
            "for success in all those more important undertakings \n",
            "a = 9\n",
            "b = 4\n",
            "c = 9\n",
            "d = 2\n",
            "e = 18\n",
            "These are not only manifold but multiform, and lie frequently among recesses of thought altogether inaccessible to the ordinary \n",
            "understanding. To observe attentively is to remember distinctly;\n",
            "a = 9\n",
            "b = 4\n",
            "c = 4\n",
            "d = 6\n",
            "e = 22\n"
          ],
          "name": "stdout"
        }
      ]
    }
  ]
}